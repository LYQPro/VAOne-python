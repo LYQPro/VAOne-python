{
 "metadata": {
  "language_info": {
   "codemirror_mode": {
    "name": "ipython",
    "version": 3
   },
   "file_extension": ".py",
   "mimetype": "text/x-python",
   "name": "python",
   "nbconvert_exporter": "python",
   "pygments_lexer": "ipython3",
   "version": "3.6.1-final"
  },
  "orig_nbformat": 2,
  "kernelspec": {
   "name": "python_defaultSpec_1598078220000",
   "display_name": "Python 3.6.1 64-bit"
  }
 },
 "nbformat": 4,
 "nbformat_minor": 2,
 "cells": [
  {
   "cell_type": "code",
   "execution_count": 59,
   "metadata": {
    "tags": []
   },
   "outputs": [
    {
     "output_type": "execute_result",
     "data": {
      "text/plain": "          Name  Density  Flow Resistivity  Porosity  Tortuosity  Viscous C.I.  \\\nName                                                                            \nPufoam  Pufoam       55             30000      0.95        1.31      0.000105   \nHSF        HSF       67             24670      0.97        1.00      0.000019   \nHMP        HMP       80             40000      0.95        1.00      0.000150   \nTCF        TCF      435           1133000      0.95        1.00      0.000150   \n\n        Thermal C.I.  SoftLayer1 HardLayer2  \nName                                         \nPufoam      0.001000                      1  \nHSF         0.000126                      1  \nHMP         0.000028                      1  \nTCF         0.000028                      2  ",
      "text/html": "<div>\n<style scoped>\n    .dataframe tbody tr th:only-of-type {\n        vertical-align: middle;\n    }\n\n    .dataframe tbody tr th {\n        vertical-align: top;\n    }\n\n    .dataframe thead th {\n        text-align: right;\n    }\n</style>\n<table border=\"1\" class=\"dataframe\">\n  <thead>\n    <tr style=\"text-align: right;\">\n      <th></th>\n      <th>Name</th>\n      <th>Density</th>\n      <th>Flow Resistivity</th>\n      <th>Porosity</th>\n      <th>Tortuosity</th>\n      <th>Viscous C.I.</th>\n      <th>Thermal C.I.</th>\n      <th>SoftLayer1 HardLayer2</th>\n    </tr>\n    <tr>\n      <th>Name</th>\n      <th></th>\n      <th></th>\n      <th></th>\n      <th></th>\n      <th></th>\n      <th></th>\n      <th></th>\n      <th></th>\n    </tr>\n  </thead>\n  <tbody>\n    <tr>\n      <th>Pufoam</th>\n      <td>Pufoam</td>\n      <td>55</td>\n      <td>30000</td>\n      <td>0.95</td>\n      <td>1.31</td>\n      <td>0.000105</td>\n      <td>0.001000</td>\n      <td>1</td>\n    </tr>\n    <tr>\n      <th>HSF</th>\n      <td>HSF</td>\n      <td>67</td>\n      <td>24670</td>\n      <td>0.97</td>\n      <td>1.00</td>\n      <td>0.000019</td>\n      <td>0.000126</td>\n      <td>1</td>\n    </tr>\n    <tr>\n      <th>HMP</th>\n      <td>HMP</td>\n      <td>80</td>\n      <td>40000</td>\n      <td>0.95</td>\n      <td>1.00</td>\n      <td>0.000150</td>\n      <td>0.000028</td>\n      <td>1</td>\n    </tr>\n    <tr>\n      <th>TCF</th>\n      <td>TCF</td>\n      <td>435</td>\n      <td>1133000</td>\n      <td>0.95</td>\n      <td>1.00</td>\n      <td>0.000150</td>\n      <td>0.000028</td>\n      <td>2</td>\n    </tr>\n  </tbody>\n</table>\n</div>"
     },
     "metadata": {},
     "execution_count": 59
    }
   ],
   "source": [
    "import pandas as pd \n",
    "df = pd.read_excel(r'd:/123.xlsx',header=None,sheet_name=\"FiberDatabase\")\n",
    "df.columns = [\"Name\",\"Density\",\"Flow Resistivity\",\"Porosity\",\"Tortuosity\",\"Viscous C.I.\",\"Thermal C.I.\",\"SoftLayer1 HardLayer2\"]\n",
    "df.index=df[\"Name\"]\n",
    "df=df.sort_values(by = [\"SoftLayer1 HardLayer2\"])\n",
    "# with pd.ExcelWriter(r'd:/123_out.xlsx') as writer:  # ??????excel???\n",
    "#     df.to_excel(writer, sheet_name = \"FiberDatabase\",index=False)\n",
    "# for i in df.index:\n",
    "#     print(df[\"Density\"][i])\n",
    "# print(df.index[1])\n",
    "df"
   ]
  },
  {
   "cell_type": "code",
   "execution_count": 19,
   "metadata": {
    "tags": []
   },
   "outputs": [
    {
     "output_type": "execute_result",
     "data": {
      "text/plain": "builtin_function_or_method"
     },
     "metadata": {},
     "execution_count": 19
    }
   ],
   "source": [
    "def bar(x):\n",
    "    print(x)\n",
    "def dobar():\n",
    "    print(\"None\")\n",
    "type(globals)"
   ]
  },
  {
   "cell_type": "code",
   "execution_count": 2,
   "metadata": {
    "tags": []
   },
   "outputs": [
    {
     "output_type": "stream",
     "name": "stdout",
     "text": "2545817958792\n2545824715336\n2545817958792\n2545824715336\n"
    }
   ],
   "source": [
    "a=[]\n",
    "b=[]\n",
    "print(id(a))\n",
    "print(id(b))\n",
    "b.append(1)\n",
    "print(id(a))\n",
    "print(id(b))"
   ]
  },
  {
   "cell_type": "code",
   "execution_count": null,
   "metadata": {},
   "outputs": [],
   "source": []
  },
  {
   "cell_type": "code",
   "execution_count": 33,
   "metadata": {
    "tags": []
   },
   "outputs": [
    {
     "output_type": "execute_result",
     "data": {
      "text/plain": "90"
     },
     "metadata": {},
     "execution_count": 33
    }
   ],
   "source": [
    "class Foo(object):\n",
    "    math = 0\n",
    "    def __init__(self,chinese,english):\n",
    "        self.chinese = chinese\n",
    "        self.english = english\n",
    "    def getchinese(self):\n",
    "        return self.chinese\n",
    "a = Foo(90,90)\n",
    "Foo(90,90).getchinese()\n",
    "# a.getchinese()\n"
   ]
  },
  {
   "cell_type": "code",
   "execution_count": 1,
   "metadata": {
    "tags": [],
    "pycharm": {
     "name": "#%%\n"
    }
   },
   "outputs": [
    {
     "output_type": "stream",
     "name": "stdout",
     "text": "0\n1\n2\n3\n4\n"
    }
   ],
   "source": [
    "for i in range(5):\n",
    "    print(i)\n",
    "%%\n"
   ]
  }
 ]
}